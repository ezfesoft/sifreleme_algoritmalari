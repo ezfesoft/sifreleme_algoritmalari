{
  "nbformat": 4,
  "nbformat_minor": 0,
  "metadata": {
    "colab": {
      "provenance": [],
      "authorship_tag": "ABX9TyOymu5sleF0L6ltSGxLmb6X",
      "include_colab_link": true
    },
    "kernelspec": {
      "name": "python3",
      "display_name": "Python 3"
    },
    "language_info": {
      "name": "python"
    }
  },
  "cells": [
    {
      "cell_type": "markdown",
      "metadata": {
        "id": "view-in-github",
        "colab_type": "text"
      },
      "source": [
        "<a href=\"https://colab.research.google.com/github/ezfesoft/sifreleme_algoritmalari/blob/main/RSA_sifreleme.ipynb\" target=\"_parent\"><img src=\"https://colab.research.google.com/assets/colab-badge.svg\" alt=\"Open In Colab\"/></a>"
      ]
    },
    {
      "cell_type": "code",
      "execution_count": null,
      "metadata": {
        "id": "mI_lzeketZNB"
      },
      "outputs": [],
      "source": [
        "pip install pycryptodome"
      ]
    },
    {
      "cell_type": "code",
      "source": [
        "from Crypto.PublicKey import RSA\n",
        "from Crypto.Cipher import PKCS1_OAEP\n",
        "from Crypto.Random import get_random_bytes\n",
        "import binascii\n",
        "\n",
        "# 1. RSA Anahtar Çifti Oluşturma (Açık ve Özel Anahtar)\n",
        "key = RSA.generate(2048)  # 2048 bit uzunluğunda RSA anahtarı\n",
        "private_key = key.export_key()  # Özel anahtar\n",
        "public_key = key.publickey().export_key()  # Açık anahtar\n",
        "\n",
        "print(\"Açık Anahtar:\", public_key.decode())\n",
        "print(\"Özel Anahtar:\", private_key.decode())\n",
        "\n",
        "# 2. Açık Anahtar ile Şifreleme\n",
        "message = b\"RSA ile sifreleme\"  # Şifrelenecek veri (bytes formatında)\n",
        "rsa_public_key = RSA.import_key(public_key)  # Açık anahtarı yükle\n",
        "cipher = PKCS1_OAEP.new(rsa_public_key)  # OAEP ile RSA şifreleme\n",
        "cipher_text = cipher.encrypt(message)\n",
        "print(\"Şifrelenmiş veri:\", binascii.hexlify(cipher_text))\n",
        "\n",
        "# 3. Özel Anahtar ile Şifre Çözme\n",
        "rsa_private_key = RSA.import_key(private_key)  # Özel anahtarı yükle\n",
        "decipher = PKCS1_OAEP.new(rsa_private_key)  # OAEP ile RSA şifre çözme\n",
        "plain_text = decipher.decrypt(cipher_text)\n",
        "print(\"Çözülmüş veri:\", plain_text)\n"
      ],
      "metadata": {
        "id": "LBS_8RSRtm3O"
      },
      "execution_count": null,
      "outputs": []
    }
  ]
}