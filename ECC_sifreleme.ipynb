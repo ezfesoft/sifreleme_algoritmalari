{
  "nbformat": 4,
  "nbformat_minor": 0,
  "metadata": {
    "colab": {
      "provenance": [],
      "authorship_tag": "ABX9TyOt374saPJk972kFVRXbDOI",
      "include_colab_link": true
    },
    "kernelspec": {
      "name": "python3",
      "display_name": "Python 3"
    },
    "language_info": {
      "name": "python"
    }
  },
  "cells": [
    {
      "cell_type": "markdown",
      "metadata": {
        "id": "view-in-github",
        "colab_type": "text"
      },
      "source": [
        "<a href=\"https://colab.research.google.com/github/ezfesoft/sifreleme_algoritmalari/blob/main/ECC_sifreleme.ipynb\" target=\"_parent\"><img src=\"https://colab.research.google.com/assets/colab-badge.svg\" alt=\"Open In Colab\"/></a>"
      ]
    },
    {
      "cell_type": "code",
      "execution_count": null,
      "metadata": {
        "id": "kwcmgIxVt4cE"
      },
      "outputs": [],
      "source": [
        "pip install cryptography"
      ]
    },
    {
      "cell_type": "code",
      "source": [
        "from cryptography.hazmat.primitives.asymmetric import ec\n",
        "from cryptography.hazmat.primitives import hashes\n",
        "from cryptography.hazmat.primitives.asymmetric.utils import encode_dss_signature, decode_dss_signature\n",
        "\n",
        "# 1. ECC Anahtar Çifti Oluşturma\n",
        "private_key = ec.generate_private_key(ec.SECP256R1())  # SECP256R1 eğrisi kullanılarak özel anahtar oluşturma\n",
        "public_key = private_key.public_key()  # Açık anahtar türetme\n",
        "\n",
        "print(\"Özel Anahtar:\", private_key)\n",
        "print(\"Açık Anahtar:\", public_key)\n",
        "\n",
        "# 2. Mesaj İmzalama\n",
        "message = b\"ECC ile imzalama testi\"  # İmzalayacağımız mesaj\n",
        "signature = private_key.sign(message, ec.ECDSA(hashes.SHA256()))  # Mesajı ECC ve ECDSA algoritması ile imzalama\n",
        "\n",
        "print(\"İmza:\", signature.hex())\n",
        "\n",
        "# 3. İmza Doğrulama\n",
        "try:\n",
        "    public_key.verify(signature, message, ec.ECDSA(hashes.SHA256()))  # Açık anahtar ile imza doğrulama\n",
        "    print(\"İmza başarıyla doğrulandı.\")\n",
        "except:\n",
        "    print(\"İmza doğrulanamadı.\")\n"
      ],
      "metadata": {
        "id": "Ffgp7oEpt6v1"
      },
      "execution_count": null,
      "outputs": []
    }
  ]
}