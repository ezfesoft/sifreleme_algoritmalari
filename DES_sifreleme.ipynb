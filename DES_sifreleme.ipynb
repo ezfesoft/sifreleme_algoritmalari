{
  "nbformat": 4,
  "nbformat_minor": 0,
  "metadata": {
    "colab": {
      "provenance": [],
      "authorship_tag": "ABX9TyMH0ADgGjRy9SN7YjcQZ1bV",
      "include_colab_link": true
    },
    "kernelspec": {
      "name": "python3",
      "display_name": "Python 3"
    },
    "language_info": {
      "name": "python"
    }
  },
  "cells": [
    {
      "cell_type": "markdown",
      "metadata": {
        "id": "view-in-github",
        "colab_type": "text"
      },
      "source": [
        "<a href=\"https://colab.research.google.com/github/ezfesoft/sifreleme_algoritmalari/blob/main/DES_sifreleme.ipynb\" target=\"_parent\"><img src=\"https://colab.research.google.com/assets/colab-badge.svg\" alt=\"Open In Colab\"/></a>"
      ]
    },
    {
      "cell_type": "code",
      "execution_count": null,
      "metadata": {
        "colab": {
          "base_uri": "https://localhost:8080/"
        },
        "id": "sAefra1bfT7v",
        "outputId": "dcc3b79a-c4c8-4d52-f7b6-570ceb17f5a4"
      },
      "outputs": [
        {
          "output_type": "stream",
          "name": "stdout",
          "text": [
            "Collecting pycryptodome\n",
            "  Downloading pycryptodome-3.21.0-cp36-abi3-manylinux_2_17_x86_64.manylinux2014_x86_64.whl.metadata (3.4 kB)\n",
            "Downloading pycryptodome-3.21.0-cp36-abi3-manylinux_2_17_x86_64.manylinux2014_x86_64.whl (2.3 MB)\n",
            "\u001b[2K   \u001b[90m━━━━━━━━━━━━━━━━━━━━━━━━━━━━━━━━━━━━━━━━\u001b[0m \u001b[32m2.3/2.3 MB\u001b[0m \u001b[31m7.2 MB/s\u001b[0m eta \u001b[36m0:00:00\u001b[0m\n",
            "\u001b[?25hInstalling collected packages: pycryptodome\n",
            "Successfully installed pycryptodome-3.21.0\n"
          ]
        }
      ],
      "source": [
        "!pip install pycryptodome"
      ]
    },
    {
      "cell_type": "code",
      "source": [
        "from Crypto.Cipher import DES\n",
        "from Crypto.Random import get_random_bytes\n",
        "import binascii\n",
        "\n",
        "# Anahtar ve veri oluşturma\n",
        "key = get_random_bytes(8)  # DES için 8 bayt uzunluğunda anahtar\n",
        "data = b\"Hello123\"  # 8 bayt uzunluğunda veri (DES tam blok boyutunda veri ister)\n",
        "\n",
        "# DES şifreleyicisini oluştur\n",
        "cipher = DES.new(key, DES.MODE_ECB)\n",
        "\n",
        "# Şifreleme\n",
        "cipher_text = cipher.encrypt(data)\n",
        "print(\"Şifrelenmiş veri:\", binascii.hexlify(cipher_text))\n",
        "\n",
        "# Şifre çözme\n",
        "decipher = DES.new(key, DES.MODE_ECB)\n",
        "plain_text = decipher.decrypt(cipher_text)\n",
        "print(\"Çözülmüş veri:\", plain_text)\n"
      ],
      "metadata": {
        "colab": {
          "base_uri": "https://localhost:8080/"
        },
        "id": "DcJNHnMpsPNv",
        "outputId": "145dbdd9-367a-40e6-81a0-71730ff7c624"
      },
      "execution_count": null,
      "outputs": [
        {
          "output_type": "stream",
          "name": "stdout",
          "text": [
            "Şifrelenmiş veri: b'3b5e226404867229'\n",
            "Çözülmüş veri: b'Hello123'\n"
          ]
        }
      ]
    },
    {
      "cell_type": "code",
      "source": [],
      "metadata": {
        "id": "INMPV8qksXi-"
      },
      "execution_count": null,
      "outputs": []
    }
  ]
}