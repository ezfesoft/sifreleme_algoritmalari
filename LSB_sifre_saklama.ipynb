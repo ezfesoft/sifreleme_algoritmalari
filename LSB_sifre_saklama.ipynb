{
  "nbformat": 4,
  "nbformat_minor": 0,
  "metadata": {
    "colab": {
      "provenance": [],
      "authorship_tag": "ABX9TyOZyUx3RsEpyLK4bltt/OTL",
      "include_colab_link": true
    },
    "kernelspec": {
      "name": "python3",
      "display_name": "Python 3"
    },
    "language_info": {
      "name": "python"
    }
  },
  "cells": [
    {
      "cell_type": "markdown",
      "metadata": {
        "id": "view-in-github",
        "colab_type": "text"
      },
      "source": [
        "<a href=\"https://colab.research.google.com/github/ezfesoft/sifreleme_algoritmalari/blob/main/LSB_sifre_saklama.ipynb\" target=\"_parent\"><img src=\"https://colab.research.google.com/assets/colab-badge.svg\" alt=\"Open In Colab\"/></a>"
      ]
    },
    {
      "cell_type": "code",
      "execution_count": null,
      "metadata": {
        "id": "kmXAfUf_uJtI"
      },
      "outputs": [],
      "source": [
        "pip install pillow"
      ]
    },
    {
      "cell_type": "code",
      "source": [
        "from PIL import Image\n",
        "\n",
        "# Mesajı ikili hale getiren yardımcı fonksiyon\n",
        "def message_to_bin(message):\n",
        "    return ''.join(format(ord(char), '08b') for char in message)\n",
        "\n",
        "# İkili veriyi karaktere dönüştüren yardımcı fonksiyon\n",
        "def bin_to_message(binary):\n",
        "    binary_chars = [binary[i:i+8] for i in range(0, len(binary), 8)]\n",
        "    message = ''.join([chr(int(char, 2)) for char in binary_chars])\n",
        "    return message\n",
        "\n",
        "# 1. Görüntüye gizli mesaj yerleştirme fonksiyonu\n",
        "def hide_message(image_path, message, output_path):\n",
        "    # Görüntüyü açma\n",
        "    img = Image.open(image_path)\n",
        "    encoded_img = img.copy()\n",
        "    width, height = img.size\n",
        "    pixels = encoded_img.load()\n",
        "\n",
        "    # Mesajı ikili hale çevirme\n",
        "    binary_message = message_to_bin(message) + '1111111111111110'  # Mesaj sonuna dur bitleri ekleme (1111111111111110)\n",
        "\n",
        "    message_index = 0\n",
        "\n",
        "    # Görüntüdeki piksellerin LSB'sine mesajın ikili karşılıklarını yerleştiriyoruz\n",
        "    for i in range(height):\n",
        "        for j in range(width):\n",
        "            if message_index < len(binary_message):\n",
        "                r, g, b = pixels[j, i]\n",
        "\n",
        "                # En düşük anlamlı biti değiştirme\n",
        "                r = (r & 0xFE) | int(binary_message[message_index])\n",
        "                message_index += 1\n",
        "\n",
        "                if message_index < len(binary_message):\n",
        "                    g = (g & 0xFE) | int(binary_message[message_index])\n",
        "                    message_index += 1\n",
        "\n",
        "                if message_index < len(binary_message):\n",
        "                    b = (b & 0xFE) | int(binary_message[message_index])\n",
        "                    message_index += 1\n",
        "\n",
        "                pixels[j, i] = (r, g, b)\n",
        "            else:\n",
        "                break\n",
        "\n",
        "    # Yeni görüntüyü kaydetme\n",
        "    encoded_img.save(output_path)\n",
        "    print(f\"Mesaj başarıyla {output_path} dosyasına gizlendi.\")\n",
        "\n",
        "# 2. Görüntüden gizli mesajı çıkarma fonksiyonu\n",
        "def extract_message(image_path):\n",
        "    # Görüntüyü açma\n",
        "    img = Image.open(image_path)\n",
        "    pixels = img.load()\n",
        "\n",
        "    width, height = img.size\n",
        "    binary_message = ''\n",
        "\n",
        "    # Piksellerdeki LSB'lerden mesajı çıkarma\n",
        "    for i in range(height):\n",
        "        for j in range(width):\n",
        "            r, g, b = pixels[j, i]\n",
        "\n",
        "            binary_message += str(r & 1)\n",
        "            binary_message += str(g & 1)\n",
        "            binary_message += str(b & 1)\n",
        "\n",
        "    # Mesajı ayırma (dur bitleri olan '1111111111111110' ile sonlanıyor)\n",
        "    message_bits = binary_message.split('1111111111111110')[0]\n",
        "\n",
        "    return bin_to_message(message_bits)\n",
        "\n",
        "# Mesaj gizleme ve çıkarma örneği\n",
        "if __name__ == '__main__':\n",
        "    # Bir görüntüde mesajı gizleyelim\n",
        "    hide_message('original_image.png', 'Bu bir test mesajıdır.', 'encoded_image.png')\n",
        "\n",
        "    # Mesajı gizlenmiş görüntüden çıkaralım\n",
        "    hidden_message = extract_message('encoded_image.png')\n",
        "    print(f\"Gizli mesaj: {hidden_message}\")\n"
      ],
      "metadata": {
        "id": "5p4_qSxIuNNv"
      },
      "execution_count": null,
      "outputs": []
    }
  ]
}