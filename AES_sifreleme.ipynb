{
  "nbformat": 4,
  "nbformat_minor": 0,
  "metadata": {
    "colab": {
      "provenance": [],
      "authorship_tag": "ABX9TyPaqBmdOjR/wCzF+hJea8cI",
      "include_colab_link": true
    },
    "kernelspec": {
      "name": "python3",
      "display_name": "Python 3"
    },
    "language_info": {
      "name": "python"
    }
  },
  "cells": [
    {
      "cell_type": "markdown",
      "metadata": {
        "id": "view-in-github",
        "colab_type": "text"
      },
      "source": [
        "<a href=\"https://colab.research.google.com/github/ezfesoft/sifreleme_algoritmalari/blob/main/AES_sifreleme.ipynb\" target=\"_parent\"><img src=\"https://colab.research.google.com/assets/colab-badge.svg\" alt=\"Open In Colab\"/></a>"
      ]
    },
    {
      "cell_type": "code",
      "execution_count": 1,
      "metadata": {
        "colab": {
          "base_uri": "https://localhost:8080/"
        },
        "id": "JI1WCj4ntFXN",
        "outputId": "2f82a840-10d4-429c-ecd7-80a05760410b"
      },
      "outputs": [
        {
          "output_type": "stream",
          "name": "stdout",
          "text": [
            "Collecting pycryptodome\n",
            "  Downloading pycryptodome-3.21.0-cp36-abi3-manylinux_2_17_x86_64.manylinux2014_x86_64.whl.metadata (3.4 kB)\n",
            "Downloading pycryptodome-3.21.0-cp36-abi3-manylinux_2_17_x86_64.manylinux2014_x86_64.whl (2.3 MB)\n",
            "\u001b[2K   \u001b[90m━━━━━━━━━━━━━━━━━━━━━━━━━━━━━━━━━━━━━━━━\u001b[0m \u001b[32m2.3/2.3 MB\u001b[0m \u001b[31m19.3 MB/s\u001b[0m eta \u001b[36m0:00:00\u001b[0m\n",
            "\u001b[?25hInstalling collected packages: pycryptodome\n",
            "Successfully installed pycryptodome-3.21.0\n"
          ]
        }
      ],
      "source": [
        "!pip install pycryptodome"
      ]
    },
    {
      "cell_type": "code",
      "source": [
        "from Crypto.Cipher import AES\n",
        "from Crypto.Random import get_random_bytes\n",
        "import binascii\n",
        "\n",
        "# AES için 16 baytlık (128 bit) bir anahtar oluşturuyoruz\n",
        "key = get_random_bytes(16)\n",
        "\n",
        "# Şifrelenecek veri (blok boyutunun katı olmalı - burada 16 bayt kullanıyoruz)\n",
        "data = b\"HelloAES1234567\"  # 16 bayt uzunluğunda veri\n",
        "\n",
        "# AES şifreleme işlemi (ECB modunda)\n",
        "cipher = AES.new(key, AES.MODE_ECB)\n",
        "cipher_text = cipher.encrypt(data)\n",
        "print(\"Şifrelenmiş veri:\", binascii.hexlify(cipher_text))\n",
        "\n",
        "# AES şifre çözme işlemi\n",
        "decipher = AES.new(key, AES.MODE_ECB)\n",
        "plain_text = decipher.decrypt(cipher_text)\n",
        "print(\"Çözülmüş veri:\", plain_text)\n"
      ],
      "metadata": {
        "collapsed": true,
        "id": "INwjVwmOtMHH"
      },
      "execution_count": null,
      "outputs": []
    }
  ]
}